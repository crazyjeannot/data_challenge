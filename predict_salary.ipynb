{
 "cells": [
  {
   "cell_type": "code",
   "execution_count": 1,
   "metadata": {},
   "outputs": [],
   "source": [
    "import pandas as pd\n",
    "import numpy as np\n",
    "import matplotlib.pyplot as plt\n",
    "import seaborn as sns"
   ]
  },
  {
   "cell_type": "code",
   "execution_count": 2,
   "metadata": {},
   "outputs": [],
   "source": [
    "from datetime import date\n",
    "import datetime\n",
    "from sklearn import set_config"
   ]
  },
  {
   "cell_type": "code",
   "execution_count": 3,
   "metadata": {},
   "outputs": [],
   "source": [
    "from sklearn.pipeline import make_pipeline\n",
    "from sklearn.linear_model import LogisticRegression\n",
    "from sklearn.model_selection import train_test_split\n",
    "from sklearn.model_selection import cross_validate\n",
    "from sklearn import set_config\n",
    "import sklearn.metrics as metrics\n",
    "from sklearn.preprocessing import StandardScaler\n",
    "from sklearn.preprocessing import Normalizer"
   ]
  },
  {
   "cell_type": "code",
   "execution_count": 96,
   "metadata": {},
   "outputs": [],
   "source": [
    "from sklearn import set_config\n",
    "set_config(display=\"diagram\")"
   ]
  },
  {
   "cell_type": "code",
   "execution_count": 4,
   "metadata": {},
   "outputs": [],
   "source": [
    "df_main = pd.read_csv('../data/train_val_data.csv')\n",
    "df_test = pd.read_csv('../data/test_data.csv')"
   ]
  },
  {
   "cell_type": "code",
   "execution_count": 5,
   "metadata": {},
   "outputs": [],
   "source": [
    "df_main.rename(columns = {'annual':'salary'}, inplace = True)"
   ]
  },
  {
   "cell_type": "code",
   "execution_count": 6,
   "metadata": {},
   "outputs": [],
   "source": [
    "df_main.drop(['summed_annual_salary'], inplace=True, axis = 1)\n",
    "df_test.drop(['summed_annual_salary'], inplace=True, axis = 1)"
   ]
  },
  {
   "cell_type": "code",
   "execution_count": 7,
   "metadata": {},
   "outputs": [],
   "source": [
    "date_ref = date(2022,1,1)"
   ]
  },
  {
   "cell_type": "code",
   "execution_count": 8,
   "metadata": {},
   "outputs": [],
   "source": [
    "def experience(list_date, date_base):\n",
    "    exp = []\n",
    "    for date_temp in list_date:\n",
    "        date_res = date_base - datetime.datetime.strptime(date_temp, '%m/%d/%y').date()\n",
    "        exp.append(abs(date_res.days))       \n",
    "    return exp"
   ]
  },
  {
   "cell_type": "code",
   "execution_count": 9,
   "metadata": {},
   "outputs": [],
   "source": [
    "xp_main = experience(list(df_main['hire_date']), date_ref)\n",
    "xp_test = experience(list(df_test['hire_date']), date_ref)"
   ]
  },
  {
   "cell_type": "code",
   "execution_count": 10,
   "metadata": {},
   "outputs": [],
   "source": [
    "df_main[\"experience\"] = xp_main\n",
    "df_test[\"experience\"] = xp_test"
   ]
  },
  {
   "cell_type": "code",
   "execution_count": 11,
   "metadata": {},
   "outputs": [],
   "source": [
    "df_main['year_hire_date'] = pd.to_datetime(df_main['hire_date']).apply(lambda x: x.year)\n",
    "df_test['year_hire_date'] = pd.to_datetime(df_test['hire_date']).apply(lambda x: x.year)"
   ]
  },
  {
   "cell_type": "code",
   "execution_count": 12,
   "metadata": {},
   "outputs": [],
   "source": [
    "X_train, X_test, y_train, y_test = train_test_split(df_main.drop(['salary'], axis=1), df_main['salary'], test_size=.1, random_state=40)"
   ]
  },
  {
   "cell_type": "code",
   "execution_count": 13,
   "metadata": {},
   "outputs": [],
   "source": [
    "X = df_main.drop(['salary', 'hire_date'], axis=1)\n",
    "y = df_main['salary']"
   ]
  },
  {
   "cell_type": "markdown",
   "metadata": {},
   "source": [
    "### Dirty_cat stuff"
   ]
  },
  {
   "cell_type": "code",
   "execution_count": 18,
   "metadata": {},
   "outputs": [],
   "source": [
    "from sklearn.preprocessing import OneHotEncoder\n",
    "one_hot = OneHotEncoder(handle_unknown='ignore', sparse=False)"
   ]
  },
  {
   "cell_type": "code",
   "execution_count": 15,
   "metadata": {},
   "outputs": [],
   "source": [
    "from sklearn.compose import make_column_transformer\n",
    "encoder = make_column_transformer(\n",
    "    (one_hot, ['agency_name', 'employee_type', 'rate', 'hrswkd', 'mi', 'ethnicity', 'gender', 'experience']),\n",
    "    ('passthrough', ['statenum']),\n",
    "    # Last but not least, our dirty column\n",
    "    (one_hot, ['class_title']),\n",
    "    remainder='drop',\n",
    "    )"
   ]
  },
  {
   "cell_type": "code",
   "execution_count": 16,
   "metadata": {},
   "outputs": [
    {
     "name": "stderr",
     "output_type": "stream",
     "text": [
      "/home/humanum/anaconda3/lib/python3.8/site-packages/sklearn/experimental/enable_hist_gradient_boosting.py:16: UserWarning: Since version 1.0, it is not needed to import enable_hist_gradient_boosting anymore. HistGradientBoostingClassifier and HistGradientBoostingRegressor are now stable and can be normally imported from sklearn.ensemble.\n",
      "  warnings.warn(\n"
     ]
    }
   ],
   "source": [
    "from sklearn.experimental import enable_hist_gradient_boosting\n",
    "# now you can import the HGBR from ensemble\n",
    "from sklearn.ensemble import HistGradientBoostingRegressor\n",
    "\n",
    "# We then create a pipeline chaining our encoders to a learner\n",
    "from sklearn.pipeline import make_pipeline\n",
    "pipeline = make_pipeline(encoder, HistGradientBoostingRegressor())"
   ]
  },
  {
   "cell_type": "code",
   "execution_count": 17,
   "metadata": {},
   "outputs": [],
   "source": [
    "pipe2 = pipeline.fit(X_train, y_train)"
   ]
  },
  {
   "cell_type": "code",
   "execution_count": 18,
   "metadata": {},
   "outputs": [
    {
     "data": {
      "text/plain": [
       "0.7842625292567951"
      ]
     },
     "execution_count": 18,
     "metadata": {},
     "output_type": "execute_result"
    }
   ],
   "source": [
    "pipe2.score(X_test, y_test)"
   ]
  },
  {
   "cell_type": "code",
   "execution_count": null,
   "metadata": {},
   "outputs": [],
   "source": []
  },
  {
   "cell_type": "code",
   "execution_count": 50,
   "metadata": {},
   "outputs": [],
   "source": [
    "salary_test_v2 = pipe2.predict(X_test)"
   ]
  },
  {
   "cell_type": "code",
   "execution_count": 24,
   "metadata": {},
   "outputs": [],
   "source": [
    "from sklearn.metrics import mean_absolute_error\n",
    "from sklearn.metrics import mean_squared_error"
   ]
  },
  {
   "cell_type": "code",
   "execution_count": 54,
   "metadata": {},
   "outputs": [
    {
     "name": "stdout",
     "output_type": "stream",
     "text": [
      "r2 : 78.2% \n",
      "mean_absolute_error :  6882.38860401214\n",
      "mean_squared_error :  164464218.56944296\n"
     ]
    }
   ],
   "source": [
    "r2 = metrics.r2_score(y_test, salary_test_v2)\n",
    "mae = mean_absolute_error(y_test, salary_test_v2)\n",
    "mse = mean_squared_error(y_test, salary_test_v2)\n",
    "print(\"r2 : %0.1f%% \" % (r2 * 100))\n",
    "print(\"mean_absolute_error : \", mae)\n",
    "print(\"mean_squared_error : \", mse)"
   ]
  },
  {
   "cell_type": "code",
   "execution_count": null,
   "metadata": {},
   "outputs": [],
   "source": []
  },
  {
   "cell_type": "code",
   "execution_count": 45,
   "metadata": {},
   "outputs": [],
   "source": [
    "salary_test_v2 = pipe2.predict(df_test)"
   ]
  },
  {
   "cell_type": "code",
   "execution_count": 23,
   "metadata": {},
   "outputs": [
    {
     "data": {
      "text/plain": [
       "array([94504.47489149, 87767.1878677 , 30768.37681199, ...,\n",
       "       52675.28490463, 51344.21445666, 44751.65968198])"
      ]
     },
     "execution_count": 23,
     "metadata": {},
     "output_type": "execute_result"
    }
   ],
   "source": [
    "salary_test_v2"
   ]
  },
  {
   "cell_type": "code",
   "execution_count": 24,
   "metadata": {},
   "outputs": [],
   "source": [
    "df_final_v2 = pd.DataFrame(data=salary_test_v2, columns=[\"predictions\"])"
   ]
  },
  {
   "cell_type": "code",
   "execution_count": 25,
   "metadata": {},
   "outputs": [
    {
     "data": {
      "text/html": [
       "<div>\n",
       "<style scoped>\n",
       "    .dataframe tbody tr th:only-of-type {\n",
       "        vertical-align: middle;\n",
       "    }\n",
       "\n",
       "    .dataframe tbody tr th {\n",
       "        vertical-align: top;\n",
       "    }\n",
       "\n",
       "    .dataframe thead th {\n",
       "        text-align: right;\n",
       "    }\n",
       "</style>\n",
       "<table border=\"1\" class=\"dataframe\">\n",
       "  <thead>\n",
       "    <tr style=\"text-align: right;\">\n",
       "      <th></th>\n",
       "      <th>predictions</th>\n",
       "    </tr>\n",
       "  </thead>\n",
       "  <tbody>\n",
       "    <tr>\n",
       "      <th>0</th>\n",
       "      <td>94504.474891</td>\n",
       "    </tr>\n",
       "    <tr>\n",
       "      <th>1</th>\n",
       "      <td>87767.187868</td>\n",
       "    </tr>\n",
       "    <tr>\n",
       "      <th>2</th>\n",
       "      <td>30768.376812</td>\n",
       "    </tr>\n",
       "    <tr>\n",
       "      <th>3</th>\n",
       "      <td>51880.680255</td>\n",
       "    </tr>\n",
       "    <tr>\n",
       "      <th>4</th>\n",
       "      <td>36739.583495</td>\n",
       "    </tr>\n",
       "    <tr>\n",
       "      <th>...</th>\n",
       "      <td>...</td>\n",
       "    </tr>\n",
       "    <tr>\n",
       "      <th>20727</th>\n",
       "      <td>35213.206970</td>\n",
       "    </tr>\n",
       "    <tr>\n",
       "      <th>20728</th>\n",
       "      <td>66722.109224</td>\n",
       "    </tr>\n",
       "    <tr>\n",
       "      <th>20729</th>\n",
       "      <td>52675.284905</td>\n",
       "    </tr>\n",
       "    <tr>\n",
       "      <th>20730</th>\n",
       "      <td>51344.214457</td>\n",
       "    </tr>\n",
       "    <tr>\n",
       "      <th>20731</th>\n",
       "      <td>44751.659682</td>\n",
       "    </tr>\n",
       "  </tbody>\n",
       "</table>\n",
       "<p>20732 rows × 1 columns</p>\n",
       "</div>"
      ],
      "text/plain": [
       "        predictions\n",
       "0      94504.474891\n",
       "1      87767.187868\n",
       "2      30768.376812\n",
       "3      51880.680255\n",
       "4      36739.583495\n",
       "...             ...\n",
       "20727  35213.206970\n",
       "20728  66722.109224\n",
       "20729  52675.284905\n",
       "20730  51344.214457\n",
       "20731  44751.659682\n",
       "\n",
       "[20732 rows x 1 columns]"
      ]
     },
     "execution_count": 25,
     "metadata": {},
     "output_type": "execute_result"
    }
   ],
   "source": [
    "df_final_v2"
   ]
  },
  {
   "cell_type": "code",
   "execution_count": 26,
   "metadata": {},
   "outputs": [],
   "source": [
    "df_final_v2.to_csv(r'../output/barre_jean_predictions_v1.csv', index=False)"
   ]
  },
  {
   "cell_type": "code",
   "execution_count": null,
   "metadata": {},
   "outputs": [],
   "source": []
  },
  {
   "cell_type": "code",
   "execution_count": null,
   "metadata": {},
   "outputs": [],
   "source": [
    "# SimilarityEncoder(similarity='ngram')\n",
    "# TargetEncoder(handle_unknown='ignore')\n",
    "# MinHashEncoder(n_components=100)\n",
    "# GapEncoder(n_components=100)"
   ]
  },
  {
   "cell_type": "code",
   "execution_count": 49,
   "metadata": {},
   "outputs": [],
   "source": [
    "from sklearn.compose import make_column_transformer\n",
    "encoder = make_column_transformer(\n",
    "    (one_hot, ['agency_name', 'employee_type', 'rate', 'hrswkd', 'mi', 'ethnicity', 'gender', 'experience']),\n",
    "    ('passthrough', ['statenum']),\n",
    "    # Last but not least, our dirty column\n",
    "    (SimilarityEncoder(similarity='ngram'), ['class_title']),\n",
    "    remainder='drop',\n",
    "    )"
   ]
  },
  {
   "cell_type": "code",
   "execution_count": null,
   "metadata": {},
   "outputs": [],
   "source": []
  },
  {
   "cell_type": "code",
   "execution_count": 58,
   "metadata": {},
   "outputs": [],
   "source": [
    "pipeline = make_pipeline(encoder, RandomForestRegressor())"
   ]
  },
  {
   "cell_type": "code",
   "execution_count": 59,
   "metadata": {},
   "outputs": [],
   "source": [
    "pipe1 = pipeline.fit(X_train, y_train)"
   ]
  },
  {
   "cell_type": "code",
   "execution_count": 60,
   "metadata": {},
   "outputs": [],
   "source": [
    "salary_predictions = pipe1.predict(X_test)"
   ]
  },
  {
   "cell_type": "code",
   "execution_count": 61,
   "metadata": {},
   "outputs": [
    {
     "name": "stdout",
     "output_type": "stream",
     "text": [
      "SIMILARITY  RANDOM FOREST: \n",
      "\n",
      "r2 : 95.0% \n",
      "mean_absolute_error :  2908.219240911269\n",
      "mean_squared_error :  37751805.38110907\n",
      "mean_squared_error sqrt :  6144.249781796722\n"
     ]
    }
   ],
   "source": [
    "print(\"SIMILARITY  RANDOM FOREST: \\n\")\n",
    "r2 = metrics.r2_score(y_test, salary_predictions)\n",
    "mae = mean_absolute_error(y_test, salary_predictions)\n",
    "mse = mean_squared_error(y_test, salary_predictions)\n",
    "print(\"r2 : %0.1f%% \" % (r2 * 100))\n",
    "print(\"mean_absolute_error : \", mae)\n",
    "print(\"mean_squared_error : \", mse)\n",
    "print(\"mean_squared_error sqrt : \", np.sqrt(mse))"
   ]
  },
  {
   "cell_type": "code",
   "execution_count": 62,
   "metadata": {},
   "outputs": [],
   "source": [
    "salary_best = pipe1.predict(df_test)\n",
    "df_salary_best = pd.DataFrame(data=salary_best, columns=[\"predictions\"])\n",
    "df_salary_best.to_csv(r'../output/barre_jean_best_predictions.csv', index=False)"
   ]
  },
  {
   "cell_type": "code",
   "execution_count": 97,
   "metadata": {
    "scrolled": true
   },
   "outputs": [
    {
     "data": {
      "text/html": [
       "<style>#sk-619b8e7e-945b-40f7-a48b-1db24d300f43 {color: black;background-color: white;}#sk-619b8e7e-945b-40f7-a48b-1db24d300f43 pre{padding: 0;}#sk-619b8e7e-945b-40f7-a48b-1db24d300f43 div.sk-toggleable {background-color: white;}#sk-619b8e7e-945b-40f7-a48b-1db24d300f43 label.sk-toggleable__label {cursor: pointer;display: block;width: 100%;margin-bottom: 0;padding: 0.3em;box-sizing: border-box;text-align: center;}#sk-619b8e7e-945b-40f7-a48b-1db24d300f43 label.sk-toggleable__label-arrow:before {content: \"▸\";float: left;margin-right: 0.25em;color: #696969;}#sk-619b8e7e-945b-40f7-a48b-1db24d300f43 label.sk-toggleable__label-arrow:hover:before {color: black;}#sk-619b8e7e-945b-40f7-a48b-1db24d300f43 div.sk-estimator:hover label.sk-toggleable__label-arrow:before {color: black;}#sk-619b8e7e-945b-40f7-a48b-1db24d300f43 div.sk-toggleable__content {max-height: 0;max-width: 0;overflow: hidden;text-align: left;background-color: #f0f8ff;}#sk-619b8e7e-945b-40f7-a48b-1db24d300f43 div.sk-toggleable__content pre {margin: 0.2em;color: black;border-radius: 0.25em;background-color: #f0f8ff;}#sk-619b8e7e-945b-40f7-a48b-1db24d300f43 input.sk-toggleable__control:checked~div.sk-toggleable__content {max-height: 200px;max-width: 100%;overflow: auto;}#sk-619b8e7e-945b-40f7-a48b-1db24d300f43 input.sk-toggleable__control:checked~label.sk-toggleable__label-arrow:before {content: \"▾\";}#sk-619b8e7e-945b-40f7-a48b-1db24d300f43 div.sk-estimator input.sk-toggleable__control:checked~label.sk-toggleable__label {background-color: #d4ebff;}#sk-619b8e7e-945b-40f7-a48b-1db24d300f43 div.sk-label input.sk-toggleable__control:checked~label.sk-toggleable__label {background-color: #d4ebff;}#sk-619b8e7e-945b-40f7-a48b-1db24d300f43 input.sk-hidden--visually {border: 0;clip: rect(1px 1px 1px 1px);clip: rect(1px, 1px, 1px, 1px);height: 1px;margin: -1px;overflow: hidden;padding: 0;position: absolute;width: 1px;}#sk-619b8e7e-945b-40f7-a48b-1db24d300f43 div.sk-estimator {font-family: monospace;background-color: #f0f8ff;border: 1px dotted black;border-radius: 0.25em;box-sizing: border-box;margin-bottom: 0.5em;}#sk-619b8e7e-945b-40f7-a48b-1db24d300f43 div.sk-estimator:hover {background-color: #d4ebff;}#sk-619b8e7e-945b-40f7-a48b-1db24d300f43 div.sk-parallel-item::after {content: \"\";width: 100%;border-bottom: 1px solid gray;flex-grow: 1;}#sk-619b8e7e-945b-40f7-a48b-1db24d300f43 div.sk-label:hover label.sk-toggleable__label {background-color: #d4ebff;}#sk-619b8e7e-945b-40f7-a48b-1db24d300f43 div.sk-serial::before {content: \"\";position: absolute;border-left: 1px solid gray;box-sizing: border-box;top: 2em;bottom: 0;left: 50%;}#sk-619b8e7e-945b-40f7-a48b-1db24d300f43 div.sk-serial {display: flex;flex-direction: column;align-items: center;background-color: white;padding-right: 0.2em;padding-left: 0.2em;}#sk-619b8e7e-945b-40f7-a48b-1db24d300f43 div.sk-item {z-index: 1;}#sk-619b8e7e-945b-40f7-a48b-1db24d300f43 div.sk-parallel {display: flex;align-items: stretch;justify-content: center;background-color: white;}#sk-619b8e7e-945b-40f7-a48b-1db24d300f43 div.sk-parallel::before {content: \"\";position: absolute;border-left: 1px solid gray;box-sizing: border-box;top: 2em;bottom: 0;left: 50%;}#sk-619b8e7e-945b-40f7-a48b-1db24d300f43 div.sk-parallel-item {display: flex;flex-direction: column;position: relative;background-color: white;}#sk-619b8e7e-945b-40f7-a48b-1db24d300f43 div.sk-parallel-item:first-child::after {align-self: flex-end;width: 50%;}#sk-619b8e7e-945b-40f7-a48b-1db24d300f43 div.sk-parallel-item:last-child::after {align-self: flex-start;width: 50%;}#sk-619b8e7e-945b-40f7-a48b-1db24d300f43 div.sk-parallel-item:only-child::after {width: 0;}#sk-619b8e7e-945b-40f7-a48b-1db24d300f43 div.sk-dashed-wrapped {border: 1px dashed gray;margin: 0 0.4em 0.5em 0.4em;box-sizing: border-box;padding-bottom: 0.4em;background-color: white;position: relative;}#sk-619b8e7e-945b-40f7-a48b-1db24d300f43 div.sk-label label {font-family: monospace;font-weight: bold;background-color: white;display: inline-block;line-height: 1.2em;}#sk-619b8e7e-945b-40f7-a48b-1db24d300f43 div.sk-label-container {position: relative;z-index: 2;text-align: center;}#sk-619b8e7e-945b-40f7-a48b-1db24d300f43 div.sk-container {/* jupyter's `normalize.less` sets `[hidden] { display: none; }` but bootstrap.min.css set `[hidden] { display: none !important; }` so we also need the `!important` here to be able to override the default hidden behavior on the sphinx rendered scikit-learn.org. See: https://github.com/scikit-learn/scikit-learn/issues/21755 */display: inline-block !important;position: relative;}#sk-619b8e7e-945b-40f7-a48b-1db24d300f43 div.sk-text-repr-fallback {display: none;}</style><div id=\"sk-619b8e7e-945b-40f7-a48b-1db24d300f43\" class=\"sk-top-container\"><div class=\"sk-text-repr-fallback\"><pre>Pipeline(steps=[(&#x27;columntransformer&#x27;,\n",
       "                 ColumnTransformer(transformers=[(&#x27;onehotencoder&#x27;,\n",
       "                                                  OneHotEncoder(handle_unknown=&#x27;ignore&#x27;,\n",
       "                                                                sparse=False),\n",
       "                                                  [&#x27;agency_name&#x27;,\n",
       "                                                   &#x27;employee_type&#x27;, &#x27;rate&#x27;,\n",
       "                                                   &#x27;hrswkd&#x27;, &#x27;mi&#x27;, &#x27;ethnicity&#x27;,\n",
       "                                                   &#x27;gender&#x27;, &#x27;experience&#x27;]),\n",
       "                                                 (&#x27;passthrough&#x27;, &#x27;passthrough&#x27;,\n",
       "                                                  [&#x27;statenum&#x27;]),\n",
       "                                                 (&#x27;similarityencoder&#x27;,\n",
       "                                                  SimilarityEncoder(),\n",
       "                                                  [&#x27;class_title&#x27;])])),\n",
       "                (&#x27;randomforestregressor&#x27;, RandomForestRegressor())])</pre><b>Please rerun this cell to show the HTML repr or trust the notebook.</b></div><div class=\"sk-container\" hidden><div class=\"sk-item sk-dashed-wrapped\"><div class=\"sk-label-container\"><div class=\"sk-label sk-toggleable\"><input class=\"sk-toggleable__control sk-hidden--visually\" id=\"44faaf36-a439-419f-ba96-1aa9eae58b7a\" type=\"checkbox\" ><label for=\"44faaf36-a439-419f-ba96-1aa9eae58b7a\" class=\"sk-toggleable__label sk-toggleable__label-arrow\">Pipeline</label><div class=\"sk-toggleable__content\"><pre>Pipeline(steps=[(&#x27;columntransformer&#x27;,\n",
       "                 ColumnTransformer(transformers=[(&#x27;onehotencoder&#x27;,\n",
       "                                                  OneHotEncoder(handle_unknown=&#x27;ignore&#x27;,\n",
       "                                                                sparse=False),\n",
       "                                                  [&#x27;agency_name&#x27;,\n",
       "                                                   &#x27;employee_type&#x27;, &#x27;rate&#x27;,\n",
       "                                                   &#x27;hrswkd&#x27;, &#x27;mi&#x27;, &#x27;ethnicity&#x27;,\n",
       "                                                   &#x27;gender&#x27;, &#x27;experience&#x27;]),\n",
       "                                                 (&#x27;passthrough&#x27;, &#x27;passthrough&#x27;,\n",
       "                                                  [&#x27;statenum&#x27;]),\n",
       "                                                 (&#x27;similarityencoder&#x27;,\n",
       "                                                  SimilarityEncoder(),\n",
       "                                                  [&#x27;class_title&#x27;])])),\n",
       "                (&#x27;randomforestregressor&#x27;, RandomForestRegressor())])</pre></div></div></div><div class=\"sk-serial\"><div class=\"sk-item sk-dashed-wrapped\"><div class=\"sk-label-container\"><div class=\"sk-label sk-toggleable\"><input class=\"sk-toggleable__control sk-hidden--visually\" id=\"872608cc-da54-45a8-b735-e8596f1f3c03\" type=\"checkbox\" ><label for=\"872608cc-da54-45a8-b735-e8596f1f3c03\" class=\"sk-toggleable__label sk-toggleable__label-arrow\">columntransformer: ColumnTransformer</label><div class=\"sk-toggleable__content\"><pre>ColumnTransformer(transformers=[(&#x27;onehotencoder&#x27;,\n",
       "                                 OneHotEncoder(handle_unknown=&#x27;ignore&#x27;,\n",
       "                                               sparse=False),\n",
       "                                 [&#x27;agency_name&#x27;, &#x27;employee_type&#x27;, &#x27;rate&#x27;,\n",
       "                                  &#x27;hrswkd&#x27;, &#x27;mi&#x27;, &#x27;ethnicity&#x27;, &#x27;gender&#x27;,\n",
       "                                  &#x27;experience&#x27;]),\n",
       "                                (&#x27;passthrough&#x27;, &#x27;passthrough&#x27;, [&#x27;statenum&#x27;]),\n",
       "                                (&#x27;similarityencoder&#x27;, SimilarityEncoder(),\n",
       "                                 [&#x27;class_title&#x27;])])</pre></div></div></div><div class=\"sk-parallel\"><div class=\"sk-parallel-item\"><div class=\"sk-item\"><div class=\"sk-label-container\"><div class=\"sk-label sk-toggleable\"><input class=\"sk-toggleable__control sk-hidden--visually\" id=\"aea11b26-034b-48e1-9775-91fdcf1fd20f\" type=\"checkbox\" ><label for=\"aea11b26-034b-48e1-9775-91fdcf1fd20f\" class=\"sk-toggleable__label sk-toggleable__label-arrow\">onehotencoder</label><div class=\"sk-toggleable__content\"><pre>[&#x27;agency_name&#x27;, &#x27;employee_type&#x27;, &#x27;rate&#x27;, &#x27;hrswkd&#x27;, &#x27;mi&#x27;, &#x27;ethnicity&#x27;, &#x27;gender&#x27;, &#x27;experience&#x27;]</pre></div></div></div><div class=\"sk-serial\"><div class=\"sk-item\"><div class=\"sk-estimator sk-toggleable\"><input class=\"sk-toggleable__control sk-hidden--visually\" id=\"7c9236a9-861f-4f6c-a758-86d596625808\" type=\"checkbox\" ><label for=\"7c9236a9-861f-4f6c-a758-86d596625808\" class=\"sk-toggleable__label sk-toggleable__label-arrow\">OneHotEncoder</label><div class=\"sk-toggleable__content\"><pre>OneHotEncoder(handle_unknown=&#x27;ignore&#x27;, sparse=False)</pre></div></div></div></div></div></div><div class=\"sk-parallel-item\"><div class=\"sk-item\"><div class=\"sk-label-container\"><div class=\"sk-label sk-toggleable\"><input class=\"sk-toggleable__control sk-hidden--visually\" id=\"1b3cdfff-1500-47de-aa9b-7e81c50efd20\" type=\"checkbox\" ><label for=\"1b3cdfff-1500-47de-aa9b-7e81c50efd20\" class=\"sk-toggleable__label sk-toggleable__label-arrow\">passthrough</label><div class=\"sk-toggleable__content\"><pre>[&#x27;statenum&#x27;]</pre></div></div></div><div class=\"sk-serial\"><div class=\"sk-item\"><div class=\"sk-estimator sk-toggleable\"><input class=\"sk-toggleable__control sk-hidden--visually\" id=\"4afcb013-b2ae-4879-aad8-10e72c1293e8\" type=\"checkbox\" ><label for=\"4afcb013-b2ae-4879-aad8-10e72c1293e8\" class=\"sk-toggleable__label sk-toggleable__label-arrow\">passthrough</label><div class=\"sk-toggleable__content\"><pre>passthrough</pre></div></div></div></div></div></div><div class=\"sk-parallel-item\"><div class=\"sk-item\"><div class=\"sk-label-container\"><div class=\"sk-label sk-toggleable\"><input class=\"sk-toggleable__control sk-hidden--visually\" id=\"18764c3f-ed05-4823-ad5a-c91355d6a283\" type=\"checkbox\" ><label for=\"18764c3f-ed05-4823-ad5a-c91355d6a283\" class=\"sk-toggleable__label sk-toggleable__label-arrow\">similarityencoder</label><div class=\"sk-toggleable__content\"><pre>[&#x27;class_title&#x27;]</pre></div></div></div><div class=\"sk-serial\"><div class=\"sk-item\"><div class=\"sk-estimator sk-toggleable\"><input class=\"sk-toggleable__control sk-hidden--visually\" id=\"860a653b-0fb4-4d6b-bd1b-fec84b80bde5\" type=\"checkbox\" ><label for=\"860a653b-0fb4-4d6b-bd1b-fec84b80bde5\" class=\"sk-toggleable__label sk-toggleable__label-arrow\">SimilarityEncoder</label><div class=\"sk-toggleable__content\"><pre>SimilarityEncoder()</pre></div></div></div></div></div></div></div></div><div class=\"sk-item\"><div class=\"sk-estimator sk-toggleable\"><input class=\"sk-toggleable__control sk-hidden--visually\" id=\"7a56c505-2e8b-4015-8444-4716c57a5ec5\" type=\"checkbox\" ><label for=\"7a56c505-2e8b-4015-8444-4716c57a5ec5\" class=\"sk-toggleable__label sk-toggleable__label-arrow\">RandomForestRegressor</label><div class=\"sk-toggleable__content\"><pre>RandomForestRegressor()</pre></div></div></div></div></div></div></div>"
      ],
      "text/plain": [
       "Pipeline(steps=[('columntransformer',\n",
       "                 ColumnTransformer(transformers=[('onehotencoder',\n",
       "                                                  OneHotEncoder(handle_unknown='ignore',\n",
       "                                                                sparse=False),\n",
       "                                                  ['agency_name',\n",
       "                                                   'employee_type', 'rate',\n",
       "                                                   'hrswkd', 'mi', 'ethnicity',\n",
       "                                                   'gender', 'experience']),\n",
       "                                                 ('passthrough', 'passthrough',\n",
       "                                                  ['statenum']),\n",
       "                                                 ('similarityencoder',\n",
       "                                                  SimilarityEncoder(),\n",
       "                                                  ['class_title'])])),\n",
       "                ('randomforestregressor', RandomForestRegressor())])"
      ]
     },
     "execution_count": 97,
     "metadata": {},
     "output_type": "execute_result"
    }
   ],
   "source": [
    "pipe1"
   ]
  },
  {
   "cell_type": "code",
   "execution_count": null,
   "metadata": {},
   "outputs": [],
   "source": []
  },
  {
   "cell_type": "code",
   "execution_count": 128,
   "metadata": {},
   "outputs": [],
   "source": [
    "feature_names_1 = pipe1['columntransformer'].transformers_[0][1].get_feature_names()"
   ]
  },
  {
   "cell_type": "code",
   "execution_count": 129,
   "metadata": {},
   "outputs": [],
   "source": [
    "feature_names_2 = pipe1['columntransformer'].transformers_[2][1].get_feature_names()"
   ]
  },
  {
   "cell_type": "code",
   "execution_count": 138,
   "metadata": {},
   "outputs": [],
   "source": [
    "feature_names = np.concatenate((feature_names_1, feature_names_2))"
   ]
  },
  {
   "cell_type": "code",
   "execution_count": 140,
   "metadata": {
    "scrolled": true
   },
   "outputs": [
    {
     "data": {
      "image/png": "[encoded data removed]",
      "text/plain": [
       "<Figure size 864x648 with 1 Axes>"
      ]
     },
     "metadata": {
      "needs_background": "light"
     },
     "output_type": "display_data"
    }
   ],
   "source": [
    "\n",
    "importances = pipe1['randomforestregressor'].feature_importances_\n",
    "std = np.std(\n",
    "    [\n",
    "        tree.feature_importances_\n",
    "        for tree in pipe1['randomforestregressor'].estimators_\n",
    "    ],\n",
    "    axis=0\n",
    ")\n",
    "indices = np.argsort(importances)\n",
    "# Sort from least to most\n",
    "indices = list(reversed(indices))\n",
    "plt.figure(figsize=(12, 9))\n",
    "plt.title(\"Feature importances\")\n",
    "n = 20\n",
    "n_indices = indices[:n]\n",
    "labels = np.array(feature_names)[n_indices]\n",
    "plt.barh(range(n), importances[n_indices], color=\"b\", yerr=std[n_indices])\n",
    "plt.yticks(range(n), labels, size=15)\n",
    "plt.tight_layout(pad=1)\n",
    "plt.show()"
   ]
  },
  {
   "cell_type": "markdown",
   "metadata": {},
   "source": [
    "# TO DO"
   ]
  },
  {
   "cell_type": "code",
   "execution_count": null,
   "metadata": {},
   "outputs": [],
   "source": [
    "from sklearn.model_selection import cross_val_score\n",
    "scores = cross_val_score(pipeline, X, y, scoring=['r2', 'neg_mean_absolute_error', 'neg_mean_squared_error'])\n",
    "\n",
    "print(f'scores={scores}')\n",
    "print(f'mean={np.mean(scores)}')\n",
    "print(f'std={np.std(scores)}')"
   ]
  },
  {
   "cell_type": "code",
   "execution_count": null,
   "metadata": {},
   "outputs": [],
   "source": []
  },
  {
   "cell_type": "code",
   "execution_count": 48,
   "metadata": {},
   "outputs": [
    {
     "name": "stdout",
     "output_type": "stream",
     "text": [
      "GapEncoder\n",
      "r2 : 92.9% \n",
      "mean_absolute_error :  4391.594253259706\n",
      "mean_squared_error :  53495229.62416974\n",
      "mean_squared_error sqrt :  7314.043315715989\n"
     ]
    }
   ],
   "source": [
    "print(\"GapEncoder\")\n",
    "\n",
    "r2 = metrics.r2_score(y_test, salary_predictions)\n",
    "mae = mean_absolute_error(y_test, salary_predictions)\n",
    "mse = mean_squared_error(y_test, salary_predictions)\n",
    "print(\"r2 : %0.1f%% \" % (r2 * 100))\n",
    "print(\"mean_absolute_error : \", mae)\n",
    "print(\"mean_squared_error : \", mse)\n",
    "print(\"mean_squared_error sqrt : \", np.sqrt(mse))"
   ]
  },
  {
   "cell_type": "code",
   "execution_count": 43,
   "metadata": {},
   "outputs": [
    {
     "name": "stdout",
     "output_type": "stream",
     "text": [
      "MinHashEncoder\n",
      "r2 : 93.3% \n",
      "mean_absolute_error :  3908.192700978028\n",
      "mean_squared_error :  50638953.834070995\n",
      "mean_squared_error sqrt :  7116.105243324539\n"
     ]
    }
   ],
   "source": [
    "print(\"MinHashEncoder\")\n",
    "\n",
    "r2 = metrics.r2_score(y_test, salary_predictions)\n",
    "mae = mean_absolute_error(y_test, salary_predictions)\n",
    "mse = mean_squared_error(y_test, salary_predictions)\n",
    "print(\"r2 : %0.1f%% \" % (r2 * 100))\n",
    "print(\"mean_absolute_error : \", mae)\n",
    "print(\"mean_squared_error : \", mse)\n",
    "print(\"mean_squared_error sqrt : \", np.sqrt(mse))"
   ]
  },
  {
   "cell_type": "code",
   "execution_count": null,
   "metadata": {},
   "outputs": [],
   "source": []
  },
  {
   "cell_type": "code",
   "execution_count": 38,
   "metadata": {},
   "outputs": [
    {
     "name": "stdout",
     "output_type": "stream",
     "text": [
      "Target Encoder\n",
      "r2 : 86.6% \n",
      "mean_absolute_error :  4813.151579620319\n",
      "mean_squared_error :  100879274.75547193\n",
      "mean_squared_error sqrt :  10043.867519808888\n"
     ]
    }
   ],
   "source": [
    "print(\"Target Encoder\")\n",
    "\n",
    "r2 = metrics.r2_score(y_test, salary_predictions)\n",
    "mae = mean_absolute_error(y_test, salary_predictions)\n",
    "mse = mean_squared_error(y_test, salary_predictions)\n",
    "print(\"r2 : %0.1f%% \" % (r2 * 100))\n",
    "print(\"mean_absolute_error : \", mae)\n",
    "print(\"mean_squared_error : \", mse)\n",
    "print(\"mean_squared_error sqrt : \", np.sqrt(mse))"
   ]
  },
  {
   "cell_type": "code",
   "execution_count": null,
   "metadata": {},
   "outputs": [],
   "source": []
  },
  {
   "cell_type": "code",
   "execution_count": 32,
   "metadata": {},
   "outputs": [
    {
     "name": "stdout",
     "output_type": "stream",
     "text": [
      "SIMILARITY : \n",
      "\n",
      "r2 : 94.6% \n",
      "mean_absolute_error :  3541.567312224181\n",
      "mean_squared_error :  40659717.804520845\n",
      "mean_squared_error sqrt :  6376.497299028742\n"
     ]
    }
   ],
   "source": [
    "#try with date column !!!\n",
    "print(\"SIMILARITY : \\n\")\n",
    "r2 = metrics.r2_score(y_test, salary_predictions)\n",
    "mae = mean_absolute_error(y_test, salary_predictions)\n",
    "mse = mean_squared_error(y_test, salary_predictions)\n",
    "print(\"r2 : %0.1f%% \" % (r2 * 100))\n",
    "print(\"mean_absolute_error : \", mae)\n",
    "print(\"mean_squared_error : \", mse)\n",
    "print(\"mean_squared_error sqrt : \", np.sqrt(mse))"
   ]
  },
  {
   "cell_type": "code",
   "execution_count": 27,
   "metadata": {},
   "outputs": [],
   "source": [
    "salary_final = pipe1.predict(df_test)\n",
    "salary_final_df = pd.DataFrame(data=salary_final, columns=[\"predictions\"])\n",
    "salary_final_df.to_csv(r'../output/barre_jean_predictions_vFBest.csv', index=False)"
   ]
  },
  {
   "cell_type": "code",
   "execution_count": null,
   "metadata": {},
   "outputs": [],
   "source": []
  },
  {
   "cell_type": "code",
   "execution_count": 52,
   "metadata": {},
   "outputs": [],
   "source": [
    "from sklearn.model_selection import cross_val_score"
   ]
  },
  {
   "cell_type": "code",
   "execution_count": 53,
   "metadata": {},
   "outputs": [],
   "source": [
    "scores = cross_val_score(pipeline, X, y, scoring='r2', error_score='raise')"
   ]
  },
  {
   "cell_type": "code",
   "execution_count": 54,
   "metadata": {},
   "outputs": [
    {
     "data": {
      "text/plain": [
       "array([0.94633666, 0.93834204, 0.94640948, 0.93262791, 0.93988084])"
      ]
     },
     "execution_count": 54,
     "metadata": {},
     "output_type": "execute_result"
    }
   ],
   "source": [
    "scores"
   ]
  },
  {
   "cell_type": "code",
   "execution_count": null,
   "metadata": {},
   "outputs": [],
   "source": []
  },
  {
   "cell_type": "code",
   "execution_count": null,
   "metadata": {},
   "outputs": [],
   "source": []
  },
  {
   "cell_type": "code",
   "execution_count": 55,
   "metadata": {},
   "outputs": [],
   "source": [
    "from sklearn.ensemble import RandomForestRegressor"
   ]
  },
  {
   "cell_type": "code",
   "execution_count": 56,
   "metadata": {},
   "outputs": [],
   "source": [
    "from dirty_cat import SuperVectorizer\n",
    "\n",
    "pipeline = make_pipeline(\n",
    "    SuperVectorizer(auto_cast=True),\n",
    "    RandomForestRegressor()\n",
    ")"
   ]
  },
  {
   "cell_type": "code",
   "execution_count": 57,
   "metadata": {},
   "outputs": [
    {
     "data": {
      "text/plain": [
       "0.9474773621601138"
      ]
     },
     "execution_count": 57,
     "metadata": {},
     "output_type": "execute_result"
    }
   ],
   "source": [
    "pipeX = pipeline.fit(X_train, y_train)\n",
    "pipeX.score(X_test, y_test)"
   ]
  },
  {
   "cell_type": "code",
   "execution_count": null,
   "metadata": {},
   "outputs": [],
   "source": []
  },
  {
   "cell_type": "markdown",
   "metadata": {},
   "source": [
    "### Super Vectorizer"
   ]
  },
  {
   "cell_type": "code",
   "execution_count": 24,
   "metadata": {},
   "outputs": [],
   "source": [
    "from dirty_cat import SuperVectorizer\n",
    "\n",
    "pipeline = make_pipeline(\n",
    "    SuperVectorizer(auto_cast=True),\n",
    "    HistGradientBoostingRegressor()\n",
    ")"
   ]
  },
  {
   "cell_type": "code",
   "execution_count": 24,
   "metadata": {},
   "outputs": [],
   "source": [
    "pipe = pipeline.fit(X, y)"
   ]
  },
  {
   "cell_type": "code",
   "execution_count": null,
   "metadata": {},
   "outputs": [],
   "source": []
  },
  {
   "cell_type": "code",
   "execution_count": 25,
   "metadata": {},
   "outputs": [
    {
     "data": {
      "text/plain": [
       "0.9245369441548479"
      ]
     },
     "execution_count": 25,
     "metadata": {},
     "output_type": "execute_result"
    }
   ],
   "source": [
    "pipeX = pipeline.fit(X_train, y_train)\n",
    "pipeX.score(X_test, y_test)"
   ]
  },
  {
   "cell_type": "code",
   "execution_count": null,
   "metadata": {},
   "outputs": [],
   "source": []
  },
  {
   "cell_type": "code",
   "execution_count": 20,
   "metadata": {},
   "outputs": [],
   "source": [
    "pipe0 = pipeline.fit(X_train, y_train)"
   ]
  },
  {
   "cell_type": "code",
   "execution_count": 21,
   "metadata": {},
   "outputs": [
    {
     "data": {
      "text/plain": [
       "0.9316879261079826"
      ]
     },
     "execution_count": 21,
     "metadata": {},
     "output_type": "execute_result"
    }
   ],
   "source": [
    "pipe0.score(X_test, y_test)"
   ]
  },
  {
   "cell_type": "code",
   "execution_count": null,
   "metadata": {},
   "outputs": [],
   "source": []
  },
  {
   "cell_type": "code",
   "execution_count": null,
   "metadata": {},
   "outputs": [],
   "source": [
    "#weighted average - compare "
   ]
  },
  {
   "cell_type": "code",
   "execution_count": 43,
   "metadata": {},
   "outputs": [
    {
     "data": {
      "text/plain": [
       "0.9297636113963772"
      ]
     },
     "execution_count": 43,
     "metadata": {},
     "output_type": "execute_result"
    }
   ],
   "source": [
    "pipe0.score(X_test, y_test)"
   ]
  },
  {
   "cell_type": "code",
   "execution_count": 26,
   "metadata": {},
   "outputs": [],
   "source": [
    "salary_test = pipe0.predict(X_test)"
   ]
  },
  {
   "cell_type": "code",
   "execution_count": 27,
   "metadata": {},
   "outputs": [
    {
     "name": "stdout",
     "output_type": "stream",
     "text": [
      "Accuracy: 92.2% \n"
     ]
    }
   ],
   "source": [
    "accuracy = metrics.r2_score(y_test, salary_test)\n",
    "print(\"Accuracy: %0.1f%% \" % (accuracy * 100))"
   ]
  },
  {
   "cell_type": "code",
   "execution_count": null,
   "metadata": {},
   "outputs": [],
   "source": []
  },
  {
   "cell_type": "code",
   "execution_count": null,
   "metadata": {},
   "outputs": [],
   "source": []
  },
  {
   "cell_type": "code",
   "execution_count": null,
   "metadata": {},
   "outputs": [],
   "source": []
  },
  {
   "cell_type": "code",
   "execution_count": 31,
   "metadata": {},
   "outputs": [
    {
     "name": "stdout",
     "output_type": "stream",
     "text": [
      "mean_squared_error:  58826451.85934164\n"
     ]
    }
   ],
   "source": [
    "mean_squared_error = metrics.mean_squared_error(y_test, salary_test)\n",
    "print(\"mean_squared_error: \",mean_squared_error)"
   ]
  },
  {
   "cell_type": "code",
   "execution_count": null,
   "metadata": {},
   "outputs": [],
   "source": []
  },
  {
   "cell_type": "code",
   "execution_count": 33,
   "metadata": {},
   "outputs": [
    {
     "name": "stdout",
     "output_type": "stream",
     "text": [
      "scores=[0.93533109 0.92455453 0.92632424 0.9239331  0.88331676]\n",
      "mean=0.9186919430761431\n",
      "std=0.018156853741499786\n"
     ]
    }
   ],
   "source": [
    "from sklearn.model_selection import cross_val_score\n",
    "scores = cross_val_score(pipeline, X, y, scoring='r2')\n",
    "\n",
    "print(f'scores={scores}')\n",
    "print(f'mean={np.mean(scores)}')\n",
    "print(f'std={np.std(scores)}')"
   ]
  },
  {
   "cell_type": "code",
   "execution_count": null,
   "metadata": {},
   "outputs": [],
   "source": []
  },
  {
   "cell_type": "code",
   "execution_count": null,
   "metadata": {},
   "outputs": [],
   "source": [
    "salary_test = pipe0.predict(df_test)"
   ]
  },
  {
   "cell_type": "code",
   "execution_count": 27,
   "metadata": {},
   "outputs": [
    {
     "data": {
      "text/plain": [
       "array([97922.49101014, 91627.86542003, 24806.06630872, ...,\n",
       "       51130.70579546, 50200.08540035, 46814.85801104])"
      ]
     },
     "execution_count": 27,
     "metadata": {},
     "output_type": "execute_result"
    }
   ],
   "source": [
    "salary_test"
   ]
  },
  {
   "cell_type": "code",
   "execution_count": 36,
   "metadata": {},
   "outputs": [],
   "source": [
    "df_final_v0 = pd.DataFrame(data=salary_test, columns=[\"predictions\"])"
   ]
  },
  {
   "cell_type": "code",
   "execution_count": 38,
   "metadata": {},
   "outputs": [
    {
     "data": {
      "text/html": [
       "<div>\n",
       "<style scoped>\n",
       "    .dataframe tbody tr th:only-of-type {\n",
       "        vertical-align: middle;\n",
       "    }\n",
       "\n",
       "    .dataframe tbody tr th {\n",
       "        vertical-align: top;\n",
       "    }\n",
       "\n",
       "    .dataframe thead th {\n",
       "        text-align: right;\n",
       "    }\n",
       "</style>\n",
       "<table border=\"1\" class=\"dataframe\">\n",
       "  <thead>\n",
       "    <tr style=\"text-align: right;\">\n",
       "      <th></th>\n",
       "      <th>predictions</th>\n",
       "    </tr>\n",
       "  </thead>\n",
       "  <tbody>\n",
       "    <tr>\n",
       "      <th>0</th>\n",
       "      <td>97922.491010</td>\n",
       "    </tr>\n",
       "    <tr>\n",
       "      <th>1</th>\n",
       "      <td>91627.865420</td>\n",
       "    </tr>\n",
       "    <tr>\n",
       "      <th>2</th>\n",
       "      <td>24806.066309</td>\n",
       "    </tr>\n",
       "    <tr>\n",
       "      <th>3</th>\n",
       "      <td>56878.988771</td>\n",
       "    </tr>\n",
       "    <tr>\n",
       "      <th>4</th>\n",
       "      <td>31576.946317</td>\n",
       "    </tr>\n",
       "    <tr>\n",
       "      <th>...</th>\n",
       "      <td>...</td>\n",
       "    </tr>\n",
       "    <tr>\n",
       "      <th>20727</th>\n",
       "      <td>31312.869658</td>\n",
       "    </tr>\n",
       "    <tr>\n",
       "      <th>20728</th>\n",
       "      <td>78270.574597</td>\n",
       "    </tr>\n",
       "    <tr>\n",
       "      <th>20729</th>\n",
       "      <td>51130.705795</td>\n",
       "    </tr>\n",
       "    <tr>\n",
       "      <th>20730</th>\n",
       "      <td>50200.085400</td>\n",
       "    </tr>\n",
       "    <tr>\n",
       "      <th>20731</th>\n",
       "      <td>46814.858011</td>\n",
       "    </tr>\n",
       "  </tbody>\n",
       "</table>\n",
       "<p>20732 rows × 1 columns</p>\n",
       "</div>"
      ],
      "text/plain": [
       "        predictions\n",
       "0      97922.491010\n",
       "1      91627.865420\n",
       "2      24806.066309\n",
       "3      56878.988771\n",
       "4      31576.946317\n",
       "...             ...\n",
       "20727  31312.869658\n",
       "20728  78270.574597\n",
       "20729  51130.705795\n",
       "20730  50200.085400\n",
       "20731  46814.858011\n",
       "\n",
       "[20732 rows x 1 columns]"
      ]
     },
     "execution_count": 38,
     "metadata": {},
     "output_type": "execute_result"
    }
   ],
   "source": [
    "df_final_v0"
   ]
  },
  {
   "cell_type": "code",
   "execution_count": 41,
   "metadata": {},
   "outputs": [],
   "source": [
    "df_final_v0.to_csv(r'../output/barre_jean_predictions_v0.csv', index=False)"
   ]
  },
  {
   "cell_type": "code",
   "execution_count": 32,
   "metadata": {},
   "outputs": [],
   "source": [
    "sup_vec = SuperVectorizer(auto_cast=True)"
   ]
  },
  {
   "cell_type": "code",
   "execution_count": 42,
   "metadata": {},
   "outputs": [],
   "source": [
    "X_train_enc = sup_vec.fit_transform(X_train, y_train)\n",
    "X_test_enc = sup_vec.transform(X_test)"
   ]
  },
  {
   "cell_type": "code",
   "execution_count": 43,
   "metadata": {},
   "outputs": [
    {
     "data": {
      "text/plain": [
       "array([[0.0, 0.0, 0.0, ..., 40.0, 338615, 110],\n",
       "       [1.0, 0.0, 0.0, ..., 40.0, 765444, 2623],\n",
       "       [1.0, 0.0, 0.0, ..., 20.0, 81895, 1037],\n",
       "       ...,\n",
       "       [0.0, 0.0, 0.0, ..., 40.0, 206952, 3287],\n",
       "       [1.0, 0.0, 0.0, ..., 40.0, 967637, 2098],\n",
       "       [1.0, 0.0, 0.0, ..., 40.0, 168678, 5601]], dtype=object)"
      ]
     },
     "execution_count": 43,
     "metadata": {},
     "output_type": "execute_result"
    }
   ],
   "source": [
    "X_train_enc"
   ]
  },
  {
   "cell_type": "code",
   "execution_count": 44,
   "metadata": {},
   "outputs": [
    {
     "data": {
      "text/plain": [
       "((105729, 12), (105729, 168))"
      ]
     },
     "execution_count": 44,
     "metadata": {},
     "output_type": "execute_result"
    }
   ],
   "source": [
    "(X_train.shape, X_train_enc.shape)"
   ]
  },
  {
   "cell_type": "code",
   "execution_count": 45,
   "metadata": {},
   "outputs": [
    {
     "data": {
      "text/plain": [
       "[('low_card_cat',\n",
       "  OneHotEncoder(),\n",
       "  ['mi', 'ethnicity', 'gender', 'employee_type']),\n",
       " ('high_card_cat',\n",
       "  GapEncoder(n_components=30),\n",
       "  ['agency_name', 'class_code', 'class_title', 'hire_date']),\n",
       " ('remainder', 'passthrough', [0, 1, 2, 11])]"
      ]
     },
     "execution_count": 45,
     "metadata": {},
     "output_type": "execute_result"
    }
   ],
   "source": [
    "sup_vec.transformers_"
   ]
  },
  {
   "cell_type": "code",
   "execution_count": 46,
   "metadata": {},
   "outputs": [
    {
     "data": {
      "text/plain": [
       "['rate',\n",
       " 'hrswkd',\n",
       " 'statenum',\n",
       " 'agency_name',\n",
       " 'mi',\n",
       " 'class_code',\n",
       " 'class_title',\n",
       " 'ethnicity',\n",
       " 'gender',\n",
       " 'employee_type',\n",
       " 'experience']"
      ]
     },
     "execution_count": 46,
     "metadata": {},
     "output_type": "execute_result"
    }
   ],
   "source": [
    "X.columns.to_list()"
   ]
  },
  {
   "cell_type": "code",
   "execution_count": 47,
   "metadata": {},
   "outputs": [
    {
     "name": "stderr",
     "output_type": "stream",
     "text": [
      "/home/humanum/anaconda3/lib/python3.8/site-packages/sklearn/utils/deprecation.py:87: FutureWarning: Function get_feature_names is deprecated; get_feature_names is deprecated in 1.0 and will be removed in 1.2. Please use get_feature_names_out instead.\n",
      "  warnings.warn(msg, category=FutureWarning)\n"
     ]
    },
    {
     "data": {
      "text/plain": [
       "['mi_ ', 'mi_A', 'mi_B', 'mi_C', 'mi_D', 'mi_E', 'mi_F', 'mi_G']"
      ]
     },
     "execution_count": 47,
     "metadata": {},
     "output_type": "execute_result"
    }
   ],
   "source": [
    "feature_names = sup_vec.get_feature_names()\n",
    "feature_names[:8]"
   ]
  },
  {
   "cell_type": "code",
   "execution_count": 48,
   "metadata": {},
   "outputs": [
    {
     "data": {
      "text/plain": [
       "168"
      ]
     },
     "execution_count": 48,
     "metadata": {},
     "output_type": "execute_result"
    }
   ],
   "source": [
    "len(feature_names)"
   ]
  },
  {
   "cell_type": "code",
   "execution_count": null,
   "metadata": {},
   "outputs": [],
   "source": []
  },
  {
   "cell_type": "code",
   "execution_count": 49,
   "metadata": {},
   "outputs": [
    {
     "data": {
      "text/plain": [
       "RandomForestRegressor()"
      ]
     },
     "execution_count": 49,
     "metadata": {},
     "output_type": "execute_result"
    }
   ],
   "source": [
    "from sklearn.ensemble import RandomForestRegressor\n",
    "regressor = RandomForestRegressor()\n",
    "regressor.fit(X_train_enc, y_train)"
   ]
  },
  {
   "cell_type": "code",
   "execution_count": null,
   "metadata": {},
   "outputs": [],
   "source": [
    "regressor"
   ]
  },
  {
   "cell_type": "code",
   "execution_count": null,
   "metadata": {},
   "outputs": [],
   "source": []
  },
  {
   "cell_type": "code",
   "execution_count": 50,
   "metadata": {},
   "outputs": [],
   "source": [
    "importances = regressor.feature_importances_\n",
    "std = np.std(\n",
    "    [\n",
    "        tree.feature_importances_\n",
    "        for tree in regressor.estimators_\n",
    "    ],\n",
    "    axis=0\n",
    ")\n",
    "indices = np.argsort(importances)\n",
    "# Sort from least to most\n",
    "indices = list(reversed(indices))"
   ]
  },
  {
   "cell_type": "code",
   "execution_count": 51,
   "metadata": {},
   "outputs": [
    {
     "data": {
      "image/png": "[encoded data removed]",
      "text/plain": [
       "<Figure size 864x648 with 1 Axes>"
      ]
     },
     "metadata": {
      "needs_background": "light"
     },
     "output_type": "display_data"
    }
   ],
   "source": [
    "import matplotlib.pyplot as plt\n",
    "plt.figure(figsize=(12, 9))\n",
    "plt.title(\"Feature importances\")\n",
    "n = 20\n",
    "n_indices = indices[:n]\n",
    "labels = np.array(feature_names)[n_indices]\n",
    "plt.barh(range(n), importances[n_indices], color=\"b\", yerr=std[n_indices])\n",
    "plt.yticks(range(n), labels, size=15)\n",
    "plt.tight_layout(pad=1)\n",
    "plt.show()"
   ]
  },
  {
   "cell_type": "code",
   "execution_count": null,
   "metadata": {},
   "outputs": [],
   "source": []
  },
  {
   "cell_type": "code",
   "execution_count": null,
   "metadata": {},
   "outputs": [],
   "source": []
  },
  {
   "cell_type": "markdown",
   "metadata": {},
   "source": [
    "### From scratch stuff"
   ]
  },
  {
   "cell_type": "code",
   "execution_count": 37,
   "metadata": {},
   "outputs": [],
   "source": [
    "from dirty_cat import SuperVectorizer\n",
    "\n",
    "pipeline = make_pipeline(\n",
    "    SuperVectorizer(auto_cast=True),\n",
    "    HistGradientBoostingRegressor()\n",
    ")"
   ]
  },
  {
   "cell_type": "code",
   "execution_count": null,
   "metadata": {},
   "outputs": [],
   "source": [
    "pipeX = pipeline.fit(X_train, y_train)\n",
    "pipeX.score(X_test, y_test)"
   ]
  },
  {
   "cell_type": "code",
   "execution_count": 39,
   "metadata": {},
   "outputs": [
    {
     "data": {
      "text/html": [
       "<div>\n",
       "<style scoped>\n",
       "    .dataframe tbody tr th:only-of-type {\n",
       "        vertical-align: middle;\n",
       "    }\n",
       "\n",
       "    .dataframe tbody tr th {\n",
       "        vertical-align: top;\n",
       "    }\n",
       "\n",
       "    .dataframe thead th {\n",
       "        text-align: right;\n",
       "    }\n",
       "</style>\n",
       "<table border=\"1\" class=\"dataframe\">\n",
       "  <thead>\n",
       "    <tr style=\"text-align: right;\">\n",
       "      <th></th>\n",
       "      <th>rate</th>\n",
       "      <th>hrswkd</th>\n",
       "      <th>statenum</th>\n",
       "      <th>agency_name</th>\n",
       "      <th>mi</th>\n",
       "      <th>class_code</th>\n",
       "      <th>class_title</th>\n",
       "      <th>ethnicity</th>\n",
       "      <th>gender</th>\n",
       "      <th>employee_type</th>\n",
       "      <th>experience</th>\n",
       "      <th>year_hire_date</th>\n",
       "    </tr>\n",
       "  </thead>\n",
       "  <tbody>\n",
       "    <tr>\n",
       "      <th>0</th>\n",
       "      <td>0.0</td>\n",
       "      <td>40.0</td>\n",
       "      <td>17758</td>\n",
       "      <td>texas department of transportation</td>\n",
       "      <td>L</td>\n",
       "      <td>2129</td>\n",
       "      <td>engineering specialist iii</td>\n",
       "      <td>BLACK</td>\n",
       "      <td>MALE</td>\n",
       "      <td>CRF - CLASSIFIED REGULAR FULL-TIME</td>\n",
       "      <td>4232</td>\n",
       "      <td>2010</td>\n",
       "    </tr>\n",
       "    <tr>\n",
       "      <th>1</th>\n",
       "      <td>0.0</td>\n",
       "      <td>40.0</td>\n",
       "      <td>80987</td>\n",
       "      <td>health and human services commission</td>\n",
       "      <td>G</td>\n",
       "      <td>1325</td>\n",
       "      <td>inspector v</td>\n",
       "      <td>BLACK</td>\n",
       "      <td>FEMALE</td>\n",
       "      <td>CRF - CLASSIFIED REGULAR FULL-TIME</td>\n",
       "      <td>1583</td>\n",
       "      <td>2017</td>\n",
       "    </tr>\n",
       "    <tr>\n",
       "      <th>2</th>\n",
       "      <td>0.0</td>\n",
       "      <td>40.0</td>\n",
       "      <td>18023</td>\n",
       "      <td>department of public safety</td>\n",
       "      <td></td>\n",
       "      <td>0174</td>\n",
       "      <td>license and permit spec v</td>\n",
       "      <td>HISPANIC</td>\n",
       "      <td>MALE</td>\n",
       "      <td>CRF - CLASSIFIED REGULAR FULL-TIME</td>\n",
       "      <td>3610</td>\n",
       "      <td>2012</td>\n",
       "    </tr>\n",
       "    <tr>\n",
       "      <th>3</th>\n",
       "      <td>0.0</td>\n",
       "      <td>40.0</td>\n",
       "      <td>1269844</td>\n",
       "      <td>texas department of transportation</td>\n",
       "      <td></td>\n",
       "      <td>9305</td>\n",
       "      <td>trans maint spec i</td>\n",
       "      <td>HISPANIC</td>\n",
       "      <td>MALE</td>\n",
       "      <td>CRF - CLASSIFIED REGULAR FULL-TIME</td>\n",
       "      <td>558</td>\n",
       "      <td>2020</td>\n",
       "    </tr>\n",
       "    <tr>\n",
       "      <th>4</th>\n",
       "      <td>0.0</td>\n",
       "      <td>40.0</td>\n",
       "      <td>184217</td>\n",
       "      <td>department of family and protective services</td>\n",
       "      <td>G</td>\n",
       "      <td>0156</td>\n",
       "      <td>administrative asst iv</td>\n",
       "      <td>HISPANIC</td>\n",
       "      <td>FEMALE</td>\n",
       "      <td>CRF - CLASSIFIED REGULAR FULL-TIME</td>\n",
       "      <td>8919</td>\n",
       "      <td>1997</td>\n",
       "    </tr>\n",
       "    <tr>\n",
       "      <th>...</th>\n",
       "      <td>...</td>\n",
       "      <td>...</td>\n",
       "      <td>...</td>\n",
       "      <td>...</td>\n",
       "      <td>...</td>\n",
       "      <td>...</td>\n",
       "      <td>...</td>\n",
       "      <td>...</td>\n",
       "      <td>...</td>\n",
       "      <td>...</td>\n",
       "      <td>...</td>\n",
       "      <td>...</td>\n",
       "    </tr>\n",
       "    <tr>\n",
       "      <th>117472</th>\n",
       "      <td>0.0</td>\n",
       "      <td>40.0</td>\n",
       "      <td>1133599</td>\n",
       "      <td>texas department of criminal justice</td>\n",
       "      <td>O</td>\n",
       "      <td>4504</td>\n",
       "      <td>correc  officer iv</td>\n",
       "      <td>BLACK</td>\n",
       "      <td>MALE</td>\n",
       "      <td>CRF - CLASSIFIED REGULAR FULL-TIME</td>\n",
       "      <td>1223</td>\n",
       "      <td>2018</td>\n",
       "    </tr>\n",
       "    <tr>\n",
       "      <th>117473</th>\n",
       "      <td>0.0</td>\n",
       "      <td>40.0</td>\n",
       "      <td>1198238</td>\n",
       "      <td>texas department of criminal justice</td>\n",
       "      <td>A</td>\n",
       "      <td>4541</td>\n",
       "      <td>parole offcr ii</td>\n",
       "      <td>HISPANIC</td>\n",
       "      <td>MALE</td>\n",
       "      <td>CRF - CLASSIFIED REGULAR FULL-TIME</td>\n",
       "      <td>894</td>\n",
       "      <td>2019</td>\n",
       "    </tr>\n",
       "    <tr>\n",
       "      <th>117474</th>\n",
       "      <td>0.0</td>\n",
       "      <td>40.0</td>\n",
       "      <td>979572</td>\n",
       "      <td>employees retirement system</td>\n",
       "      <td>R</td>\n",
       "      <td>0222</td>\n",
       "      <td>it business analyst ii</td>\n",
       "      <td>WHITE</td>\n",
       "      <td>FEMALE</td>\n",
       "      <td>CRF - CLASSIFIED REGULAR FULL-TIME</td>\n",
       "      <td>2025</td>\n",
       "      <td>2016</td>\n",
       "    </tr>\n",
       "    <tr>\n",
       "      <th>117475</th>\n",
       "      <td>0.0</td>\n",
       "      <td>40.0</td>\n",
       "      <td>97069</td>\n",
       "      <td>department of public safety</td>\n",
       "      <td>M</td>\n",
       "      <td>9940</td>\n",
       "      <td>sergeant, dps</td>\n",
       "      <td>WHITE</td>\n",
       "      <td>MALE</td>\n",
       "      <td>CRF - CLASSIFIED REGULAR FULL-TIME</td>\n",
       "      <td>2044</td>\n",
       "      <td>2016</td>\n",
       "    </tr>\n",
       "    <tr>\n",
       "      <th>117476</th>\n",
       "      <td>0.0</td>\n",
       "      <td>40.0</td>\n",
       "      <td>175429</td>\n",
       "      <td>texas workforce commission</td>\n",
       "      <td></td>\n",
       "      <td>5702</td>\n",
       "      <td>h/srvc spec iii</td>\n",
       "      <td>WHITE</td>\n",
       "      <td>FEMALE</td>\n",
       "      <td>CRF - CLASSIFIED REGULAR FULL-TIME</td>\n",
       "      <td>884</td>\n",
       "      <td>2019</td>\n",
       "    </tr>\n",
       "  </tbody>\n",
       "</table>\n",
       "<p>117477 rows × 12 columns</p>\n",
       "</div>"
      ],
      "text/plain": [
       "        rate  hrswkd  statenum                                   agency_name  \\\n",
       "0        0.0    40.0     17758            texas department of transportation   \n",
       "1        0.0    40.0     80987          health and human services commission   \n",
       "2        0.0    40.0     18023                   department of public safety   \n",
       "3        0.0    40.0   1269844            texas department of transportation   \n",
       "4        0.0    40.0    184217  department of family and protective services   \n",
       "...      ...     ...       ...                                           ...   \n",
       "117472   0.0    40.0   1133599          texas department of criminal justice   \n",
       "117473   0.0    40.0   1198238          texas department of criminal justice   \n",
       "117474   0.0    40.0    979572                   employees retirement system   \n",
       "117475   0.0    40.0     97069                   department of public safety   \n",
       "117476   0.0    40.0    175429                    texas workforce commission   \n",
       "\n",
       "       mi class_code                 class_title        ethnicity  \\\n",
       "0       L       2129  engineering specialist iii  BLACK             \n",
       "1       G       1325                 inspector v  BLACK             \n",
       "2               0174   license and permit spec v  HISPANIC          \n",
       "3               9305          trans maint spec i  HISPANIC          \n",
       "4       G       0156      administrative asst iv  HISPANIC          \n",
       "...    ..        ...                         ...              ...   \n",
       "117472  O       4504          correc  officer iv  BLACK             \n",
       "117473  A       4541             parole offcr ii  HISPANIC          \n",
       "117474  R       0222      it business analyst ii  WHITE             \n",
       "117475  M       9940               sergeant, dps  WHITE             \n",
       "117476          5702             h/srvc spec iii  WHITE             \n",
       "\n",
       "                 gender                             employee_type  experience  \\\n",
       "0       MALE             CRF - CLASSIFIED REGULAR FULL-TIME              4232   \n",
       "1       FEMALE           CRF - CLASSIFIED REGULAR FULL-TIME              1583   \n",
       "2       MALE             CRF - CLASSIFIED REGULAR FULL-TIME              3610   \n",
       "3       MALE             CRF - CLASSIFIED REGULAR FULL-TIME               558   \n",
       "4       FEMALE           CRF - CLASSIFIED REGULAR FULL-TIME              8919   \n",
       "...                 ...                                       ...         ...   \n",
       "117472  MALE             CRF - CLASSIFIED REGULAR FULL-TIME              1223   \n",
       "117473  MALE             CRF - CLASSIFIED REGULAR FULL-TIME               894   \n",
       "117474  FEMALE           CRF - CLASSIFIED REGULAR FULL-TIME              2025   \n",
       "117475  MALE             CRF - CLASSIFIED REGULAR FULL-TIME              2044   \n",
       "117476  FEMALE           CRF - CLASSIFIED REGULAR FULL-TIME               884   \n",
       "\n",
       "        year_hire_date  \n",
       "0                 2010  \n",
       "1                 2017  \n",
       "2                 2012  \n",
       "3                 2020  \n",
       "4                 1997  \n",
       "...                ...  \n",
       "117472            2018  \n",
       "117473            2019  \n",
       "117474            2016  \n",
       "117475            2016  \n",
       "117476            2019  \n",
       "\n",
       "[117477 rows x 12 columns]"
      ]
     },
     "execution_count": 39,
     "metadata": {},
     "output_type": "execute_result"
    }
   ],
   "source": []
  },
  {
   "cell_type": "code",
   "execution_count": null,
   "metadata": {},
   "outputs": [],
   "source": []
  }
 ],
 "metadata": {
  "kernelspec": {
   "display_name": "Python 3",
   "language": "python",
   "name": "python3"
  },
  "language_info": {
   "codemirror_mode": {
    "name": "ipython",
    "version": 3
   },
   "file_extension": ".py",
   "mimetype": "text/x-python",
   "name": "python",
   "nbconvert_exporter": "python",
   "pygments_lexer": "ipython3",
   "version": "3.8.8"
  }
 },
 "nbformat": 4,
 "nbformat_minor": 4
}
